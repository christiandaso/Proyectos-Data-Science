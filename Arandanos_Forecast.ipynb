{
  "nbformat": 4,
  "nbformat_minor": 0,
  "metadata": {
    "colab": {
      "provenance": []
    },
    "kernelspec": {
      "name": "python3",
      "display_name": "Python 3"
    },
    "language_info": {
      "name": "python"
    }
  },
  "cells": [
    {
      "cell_type": "markdown",
      "source": [
        "##**Modelado para pronosticar mediante series de tiempo la estimación de la demanda internacional del Arándano Orgánico de Perú:**"
      ],
      "metadata": {
        "id": "oqZ94TfFjexG"
      }
    },
    {
      "cell_type": "markdown",
      "source": [
        "\n",
        "En este Análisis existen varios algoritmos de Machine Learning nuestros objetivo principal es predecir la variable cantidad de toneladas de Arándanos orgánicos del Perú que se van exportar al exterior, como la Regresión Lineal, Regresión Múltiple, Árboles de Decisión, Redes Neuronales entre otros.\n",
        "Sin embargo, utilizaremos la Regresión Lineal, ya que es un modelo de análisis estadístico que permitirá estimar el efecto de la variable independiente (Precio de exportación) sobre la variable dependiente (Demanda de Arándanos-cantidad expresada en toneladas).\n",
        "\n",
        "Para lograr este objetivo, realizaremos la extracción de características, el preprocesamiento y la selección del modelo. Experimentaremos con varios modelos de regresión, incluidos la regresión lineal,(\"....\"), para identificar el modelo más adecuado para predecir las calificaciones de la Importación . Evaluaremos el desempeño de estos modelos utilizando el puntaje (...), que mide la proporción de la varianza en la variable dependiente que es predecible a partir de las variables independientes.\n",
        "\n",
        "Con este enfoque se busca establecer una relación matemática entre las variables predictorias y la variable de respuesta, para luego usar la ecuación resultante y predecir la demanda futura"
      ],
      "metadata": {
        "id": "rWOJd85KjYmH"
      }
    },
    {
      "cell_type": "markdown",
      "source": [
        "**Descripción de datos**\n",
        "\n",
        "El data frame de Las Exportaciones de Arandanos Peruanos tiene 84886 filas y 33 columnas.\n",
        "\n",
        "Este data frame contiene las siguientes columnas:\n",
        "\n",
        "Aduana\n",
        "\n",
        "Fecha\n",
        "\n",
        "Exportador\n",
        "\n",
        "Kg Neto\n",
        "\n",
        "Toneladas\n",
        "\n",
        "U$ FOB Tot\n",
        "\n",
        "U$ FOB Und 1\n",
        "\n",
        "Pais de Destino\n",
        "\n",
        "Puerto de Destino\n",
        "\n",
        "Via\n"
      ],
      "metadata": {
        "id": "aWHDsmLEXwhp"
      }
    },
    {
      "cell_type": "markdown",
      "source": [
        "**Objetivo de este Notebook**\n",
        "1. Como construir e interpretar un modelo de regresión linear multivariada.\n",
        "2. Descargar y limpiar un Dataset\n",
        "3. Realizar los pasos necesarios previos a la etapa de modelamiento\n",
        "4. Entrenar y Testear modelo"
      ],
      "metadata": {
        "id": "_ASnk1XcUGEb"
      }
    },
    {
      "cell_type": "markdown",
      "source": [
        "\n",
        "**Primero, importemos Librerias que necesitaremos para el análisis y construcción del modelo.**"
      ],
      "metadata": {
        "id": "LHLpEsEYkbWN"
      }
    },
    {
      "cell_type": "code",
      "source": [
        "import pandas as pd\n",
        "import numpy as np\n",
        "import sklearn\n",
        "import datetime as dt\n",
        "import seaborn as sns"
      ],
      "metadata": {
        "id": "N4-1f2SdrPTU"
      },
      "execution_count": null,
      "outputs": []
    },
    {
      "cell_type": "markdown",
      "source": [
        "##1. DATA COLLECTION"
      ],
      "metadata": {
        "id": "a49AGLRlkOo9"
      }
    },
    {
      "cell_type": "code",
      "source": [
        "#Importamos el archivo de excel a un dataframe de pandas\n",
        "#Aqui podemos observar las 5 primeras observaciones de nuestro dataframe \n",
        "\n",
        "dfar = pd.read_excel('/content/DB arandanos.xlsx')\n",
        "dfar.head()"
      ],
      "metadata": {
        "colab": {
          "base_uri": "https://localhost:8080/",
          "height": 786
        },
        "id": "z8cK9DoOsAWu",
        "outputId": "7710706a-138a-4050-b007-4abc7b834b96"
      },
      "execution_count": null,
      "outputs": [
        {
          "output_type": "execute_result",
          "data": {
            "text/plain": [
              "   Partida Aduanera                 Descripcion de la Partida Aduanera  \\\n",
              "0         810400000  ARANDANOS O MURTONES Y DEMAS FRUTOS DEL GENERO...   \n",
              "1         810400000  ARANDANOS O MURTONES Y DEMAS FRUTOS DEL GENERO...   \n",
              "2         810400000  ARANDANOS O MURTONES Y DEMAS FRUTOS DEL GENERO...   \n",
              "3         810400000  ARANDANOS O MURTONES Y DEMAS FRUTOS DEL GENERO...   \n",
              "4         810400000  ARANDANOS O MURTONES Y DEMAS FRUTOS DEL GENERO...   \n",
              "\n",
              "                Aduana         DUA      Fecha   AÑO      MES  FECHA_CONCAT  \\\n",
              "0     AEREA DEL CALLAO  094694 | 1 2017-10-18  2017  OCTUBRE  2017_OCTUBRE   \n",
              "1     AEREA DEL CALLAO  104337 | 1 2017-10-18  2017  OCTUBRE  2017_OCTUBRE   \n",
              "2            SALAVERRY  004957 | 1 2017-10-18  2017  OCTUBRE  2017_OCTUBRE   \n",
              "3  MARITIMA DEL CALLAO  095458 | 1 2017-10-18  2017  OCTUBRE  2017_OCTUBRE   \n",
              "4            SALAVERRY  004937 | 2 2017-10-18  2017  OCTUBRE  2017_OCTUBRE   \n",
              "\n",
              "   Cod. Tributario                                         Exportador  ...  \\\n",
              "0      20519190681  AGROINVERSIONES VALLE Y PAMPA PERU SOCIEDAD AN...  ...   \n",
              "1      20378668574                               PHOENIX FOODS S.A.C.  ...   \n",
              "2      20461642706                         AGRICOLA CERRO PRIETO S.A.  ...   \n",
              "3      20536911708                                     VISON´S S.A.C.  ...   \n",
              "4      20461642706                         AGRICOLA CERRO PRIETO S.A.  ...   \n",
              "\n",
              "                        Agente Portuario                     Agente de Aduana  \\\n",
              "0                          LAN PERU S.A.                   L.B. GAYOSO S.A.C.   \n",
              "1                                 IBERIA                     LIP ADUANAS S.A.   \n",
              "2                            UNIMAR S.A.     SCHARFF LOGISTICA INTEGRADA S.A.   \n",
              "3  MEDITERRANEAN SHIPPING CO.PERU S.A.C.  DESPACHOS ADUANEROS CHAVIMOCHIC SAC   \n",
              "4                            UNIMAR S.A.     SCHARFF LOGISTICA INTEGRADA S.A.   \n",
              "\n",
              "                               Descripcion Comercial  \\\n",
              "0  ARANDANOS FRESCOS    CODIGO Nº13 RESTITUCION D...   \n",
              "1              ARANDANOS FRESCOS   EN CAJAS DRAWBACK   \n",
              "2  ARANDANOS FRESCOS EN CAJAS COLD TREATMENT CONS...   \n",
              "3   ARANDANOS FRESCOS EN CAJAS   SE ACOGE A DRAWBACK   \n",
              "4  ARANDANO CONVENCIONAL FRESCO EN CAJAS  PARA CO...   \n",
              "\n",
              "                   Descripcion1  Descripcion2    Descripcion3  \\\n",
              "0             ARANDANOS FRESCOS           NaN             NaN   \n",
              "1             ARANDANOS FRESCOS           NaN             NaN   \n",
              "2             ARANDANOS FRESCOS      EN CAJAS  COLD TREATMENT   \n",
              "3             ARANDANOS FRESCOS      EN CAJAS             NaN   \n",
              "4  ARANDANO CONVENCIONAL FRESCO      EN CAJAS             NaN   \n",
              "\n",
              "          Descripcion4                         Naviera    PBI USA  \\\n",
              "0                  NaN                             NaN  1437296.0   \n",
              "1             EN CAJAS                             NaN  1437296.0   \n",
              "2       CONSUMO HUMANO                             NaN  1437296.0   \n",
              "3                  NaN  MEDITERRANEAN SHIPPING COMPANY  1437296.0   \n",
              "4  PARA CONSUMO HUMANO                             NaN  1437296.0   \n",
              "\n",
              "            IBP  \n",
              "0  11248.220553  \n",
              "1  11248.220553  \n",
              "2  11248.220553  \n",
              "3  11248.220553  \n",
              "4  11248.220553  \n",
              "\n",
              "[5 rows x 34 columns]"
            ],
            "text/html": [
              "\n",
              "  <div id=\"df-11c008e6-a8fc-4e1c-9182-bf23035b52c4\">\n",
              "    <div class=\"colab-df-container\">\n",
              "      <div>\n",
              "<style scoped>\n",
              "    .dataframe tbody tr th:only-of-type {\n",
              "        vertical-align: middle;\n",
              "    }\n",
              "\n",
              "    .dataframe tbody tr th {\n",
              "        vertical-align: top;\n",
              "    }\n",
              "\n",
              "    .dataframe thead th {\n",
              "        text-align: right;\n",
              "    }\n",
              "</style>\n",
              "<table border=\"1\" class=\"dataframe\">\n",
              "  <thead>\n",
              "    <tr style=\"text-align: right;\">\n",
              "      <th></th>\n",
              "      <th>Partida Aduanera</th>\n",
              "      <th>Descripcion de la Partida Aduanera</th>\n",
              "      <th>Aduana</th>\n",
              "      <th>DUA</th>\n",
              "      <th>Fecha</th>\n",
              "      <th>AÑO</th>\n",
              "      <th>MES</th>\n",
              "      <th>FECHA_CONCAT</th>\n",
              "      <th>Cod. Tributario</th>\n",
              "      <th>Exportador</th>\n",
              "      <th>...</th>\n",
              "      <th>Agente Portuario</th>\n",
              "      <th>Agente de Aduana</th>\n",
              "      <th>Descripcion Comercial</th>\n",
              "      <th>Descripcion1</th>\n",
              "      <th>Descripcion2</th>\n",
              "      <th>Descripcion3</th>\n",
              "      <th>Descripcion4</th>\n",
              "      <th>Naviera</th>\n",
              "      <th>PBI USA</th>\n",
              "      <th>IBP</th>\n",
              "    </tr>\n",
              "  </thead>\n",
              "  <tbody>\n",
              "    <tr>\n",
              "      <th>0</th>\n",
              "      <td>810400000</td>\n",
              "      <td>ARANDANOS O MURTONES Y DEMAS FRUTOS DEL GENERO...</td>\n",
              "      <td>AEREA DEL CALLAO</td>\n",
              "      <td>094694 | 1</td>\n",
              "      <td>2017-10-18</td>\n",
              "      <td>2017</td>\n",
              "      <td>OCTUBRE</td>\n",
              "      <td>2017_OCTUBRE</td>\n",
              "      <td>20519190681</td>\n",
              "      <td>AGROINVERSIONES VALLE Y PAMPA PERU SOCIEDAD AN...</td>\n",
              "      <td>...</td>\n",
              "      <td>LAN PERU S.A.</td>\n",
              "      <td>L.B. GAYOSO S.A.C.</td>\n",
              "      <td>ARANDANOS FRESCOS    CODIGO Nº13 RESTITUCION D...</td>\n",
              "      <td>ARANDANOS FRESCOS</td>\n",
              "      <td>NaN</td>\n",
              "      <td>NaN</td>\n",
              "      <td>NaN</td>\n",
              "      <td>NaN</td>\n",
              "      <td>1437296.0</td>\n",
              "      <td>11248.220553</td>\n",
              "    </tr>\n",
              "    <tr>\n",
              "      <th>1</th>\n",
              "      <td>810400000</td>\n",
              "      <td>ARANDANOS O MURTONES Y DEMAS FRUTOS DEL GENERO...</td>\n",
              "      <td>AEREA DEL CALLAO</td>\n",
              "      <td>104337 | 1</td>\n",
              "      <td>2017-10-18</td>\n",
              "      <td>2017</td>\n",
              "      <td>OCTUBRE</td>\n",
              "      <td>2017_OCTUBRE</td>\n",
              "      <td>20378668574</td>\n",
              "      <td>PHOENIX FOODS S.A.C.</td>\n",
              "      <td>...</td>\n",
              "      <td>IBERIA</td>\n",
              "      <td>LIP ADUANAS S.A.</td>\n",
              "      <td>ARANDANOS FRESCOS   EN CAJAS DRAWBACK</td>\n",
              "      <td>ARANDANOS FRESCOS</td>\n",
              "      <td>NaN</td>\n",
              "      <td>NaN</td>\n",
              "      <td>EN CAJAS</td>\n",
              "      <td>NaN</td>\n",
              "      <td>1437296.0</td>\n",
              "      <td>11248.220553</td>\n",
              "    </tr>\n",
              "    <tr>\n",
              "      <th>2</th>\n",
              "      <td>810400000</td>\n",
              "      <td>ARANDANOS O MURTONES Y DEMAS FRUTOS DEL GENERO...</td>\n",
              "      <td>SALAVERRY</td>\n",
              "      <td>004957 | 1</td>\n",
              "      <td>2017-10-18</td>\n",
              "      <td>2017</td>\n",
              "      <td>OCTUBRE</td>\n",
              "      <td>2017_OCTUBRE</td>\n",
              "      <td>20461642706</td>\n",
              "      <td>AGRICOLA CERRO PRIETO S.A.</td>\n",
              "      <td>...</td>\n",
              "      <td>UNIMAR S.A.</td>\n",
              "      <td>SCHARFF LOGISTICA INTEGRADA S.A.</td>\n",
              "      <td>ARANDANOS FRESCOS EN CAJAS COLD TREATMENT CONS...</td>\n",
              "      <td>ARANDANOS FRESCOS</td>\n",
              "      <td>EN CAJAS</td>\n",
              "      <td>COLD TREATMENT</td>\n",
              "      <td>CONSUMO HUMANO</td>\n",
              "      <td>NaN</td>\n",
              "      <td>1437296.0</td>\n",
              "      <td>11248.220553</td>\n",
              "    </tr>\n",
              "    <tr>\n",
              "      <th>3</th>\n",
              "      <td>810400000</td>\n",
              "      <td>ARANDANOS O MURTONES Y DEMAS FRUTOS DEL GENERO...</td>\n",
              "      <td>MARITIMA DEL CALLAO</td>\n",
              "      <td>095458 | 1</td>\n",
              "      <td>2017-10-18</td>\n",
              "      <td>2017</td>\n",
              "      <td>OCTUBRE</td>\n",
              "      <td>2017_OCTUBRE</td>\n",
              "      <td>20536911708</td>\n",
              "      <td>VISON´S S.A.C.</td>\n",
              "      <td>...</td>\n",
              "      <td>MEDITERRANEAN SHIPPING CO.PERU S.A.C.</td>\n",
              "      <td>DESPACHOS ADUANEROS CHAVIMOCHIC SAC</td>\n",
              "      <td>ARANDANOS FRESCOS EN CAJAS   SE ACOGE A DRAWBACK</td>\n",
              "      <td>ARANDANOS FRESCOS</td>\n",
              "      <td>EN CAJAS</td>\n",
              "      <td>NaN</td>\n",
              "      <td>NaN</td>\n",
              "      <td>MEDITERRANEAN SHIPPING COMPANY</td>\n",
              "      <td>1437296.0</td>\n",
              "      <td>11248.220553</td>\n",
              "    </tr>\n",
              "    <tr>\n",
              "      <th>4</th>\n",
              "      <td>810400000</td>\n",
              "      <td>ARANDANOS O MURTONES Y DEMAS FRUTOS DEL GENERO...</td>\n",
              "      <td>SALAVERRY</td>\n",
              "      <td>004937 | 2</td>\n",
              "      <td>2017-10-18</td>\n",
              "      <td>2017</td>\n",
              "      <td>OCTUBRE</td>\n",
              "      <td>2017_OCTUBRE</td>\n",
              "      <td>20461642706</td>\n",
              "      <td>AGRICOLA CERRO PRIETO S.A.</td>\n",
              "      <td>...</td>\n",
              "      <td>UNIMAR S.A.</td>\n",
              "      <td>SCHARFF LOGISTICA INTEGRADA S.A.</td>\n",
              "      <td>ARANDANO CONVENCIONAL FRESCO EN CAJAS  PARA CO...</td>\n",
              "      <td>ARANDANO CONVENCIONAL FRESCO</td>\n",
              "      <td>EN CAJAS</td>\n",
              "      <td>NaN</td>\n",
              "      <td>PARA CONSUMO HUMANO</td>\n",
              "      <td>NaN</td>\n",
              "      <td>1437296.0</td>\n",
              "      <td>11248.220553</td>\n",
              "    </tr>\n",
              "  </tbody>\n",
              "</table>\n",
              "<p>5 rows × 34 columns</p>\n",
              "</div>\n",
              "      <button class=\"colab-df-convert\" onclick=\"convertToInteractive('df-11c008e6-a8fc-4e1c-9182-bf23035b52c4')\"\n",
              "              title=\"Convert this dataframe to an interactive table.\"\n",
              "              style=\"display:none;\">\n",
              "        \n",
              "  <svg xmlns=\"http://www.w3.org/2000/svg\" height=\"24px\"viewBox=\"0 0 24 24\"\n",
              "       width=\"24px\">\n",
              "    <path d=\"M0 0h24v24H0V0z\" fill=\"none\"/>\n",
              "    <path d=\"M18.56 5.44l.94 2.06.94-2.06 2.06-.94-2.06-.94-.94-2.06-.94 2.06-2.06.94zm-11 1L8.5 8.5l.94-2.06 2.06-.94-2.06-.94L8.5 2.5l-.94 2.06-2.06.94zm10 10l.94 2.06.94-2.06 2.06-.94-2.06-.94-.94-2.06-.94 2.06-2.06.94z\"/><path d=\"M17.41 7.96l-1.37-1.37c-.4-.4-.92-.59-1.43-.59-.52 0-1.04.2-1.43.59L10.3 9.45l-7.72 7.72c-.78.78-.78 2.05 0 2.83L4 21.41c.39.39.9.59 1.41.59.51 0 1.02-.2 1.41-.59l7.78-7.78 2.81-2.81c.8-.78.8-2.07 0-2.86zM5.41 20L4 18.59l7.72-7.72 1.47 1.35L5.41 20z\"/>\n",
              "  </svg>\n",
              "      </button>\n",
              "      \n",
              "  <style>\n",
              "    .colab-df-container {\n",
              "      display:flex;\n",
              "      flex-wrap:wrap;\n",
              "      gap: 12px;\n",
              "    }\n",
              "\n",
              "    .colab-df-convert {\n",
              "      background-color: #E8F0FE;\n",
              "      border: none;\n",
              "      border-radius: 50%;\n",
              "      cursor: pointer;\n",
              "      display: none;\n",
              "      fill: #1967D2;\n",
              "      height: 32px;\n",
              "      padding: 0 0 0 0;\n",
              "      width: 32px;\n",
              "    }\n",
              "\n",
              "    .colab-df-convert:hover {\n",
              "      background-color: #E2EBFA;\n",
              "      box-shadow: 0px 1px 2px rgba(60, 64, 67, 0.3), 0px 1px 3px 1px rgba(60, 64, 67, 0.15);\n",
              "      fill: #174EA6;\n",
              "    }\n",
              "\n",
              "    [theme=dark] .colab-df-convert {\n",
              "      background-color: #3B4455;\n",
              "      fill: #D2E3FC;\n",
              "    }\n",
              "\n",
              "    [theme=dark] .colab-df-convert:hover {\n",
              "      background-color: #434B5C;\n",
              "      box-shadow: 0px 1px 3px 1px rgba(0, 0, 0, 0.15);\n",
              "      filter: drop-shadow(0px 1px 2px rgba(0, 0, 0, 0.3));\n",
              "      fill: #FFFFFF;\n",
              "    }\n",
              "  </style>\n",
              "\n",
              "      <script>\n",
              "        const buttonEl =\n",
              "          document.querySelector('#df-11c008e6-a8fc-4e1c-9182-bf23035b52c4 button.colab-df-convert');\n",
              "        buttonEl.style.display =\n",
              "          google.colab.kernel.accessAllowed ? 'block' : 'none';\n",
              "\n",
              "        async function convertToInteractive(key) {\n",
              "          const element = document.querySelector('#df-11c008e6-a8fc-4e1c-9182-bf23035b52c4');\n",
              "          const dataTable =\n",
              "            await google.colab.kernel.invokeFunction('convertToInteractive',\n",
              "                                                     [key], {});\n",
              "          if (!dataTable) return;\n",
              "\n",
              "          const docLinkHtml = 'Like what you see? Visit the ' +\n",
              "            '<a target=\"_blank\" href=https://colab.research.google.com/notebooks/data_table.ipynb>data table notebook</a>'\n",
              "            + ' to learn more about interactive tables.';\n",
              "          element.innerHTML = '';\n",
              "          dataTable['output_type'] = 'display_data';\n",
              "          await google.colab.output.renderOutput(dataTable, element);\n",
              "          const docLink = document.createElement('div');\n",
              "          docLink.innerHTML = docLinkHtml;\n",
              "          element.appendChild(docLink);\n",
              "        }\n",
              "      </script>\n",
              "    </div>\n",
              "  </div>\n",
              "  "
            ]
          },
          "metadata": {},
          "execution_count": 3
        }
      ]
    },
    {
      "cell_type": "code",
      "source": [
        "np.percentile(dfar['Kg Neto'], 99)"
      ],
      "metadata": {
        "colab": {
          "base_uri": "https://localhost:8080/"
        },
        "id": "9CEsOBRbQATQ",
        "outputId": "76958dc8-c573-4046-c434-50cd0b88691b"
      },
      "execution_count": null,
      "outputs": [
        {
          "output_type": "execute_result",
          "data": {
            "text/plain": [
              "20035.164000000008"
            ]
          },
          "metadata": {},
          "execution_count": 182
        }
      ]
    },
    {
      "cell_type": "markdown",
      "source": [
        "##2. DATA CLEANING/PREPARATION"
      ],
      "metadata": {
        "id": "5bAm29kcngVz"
      }
    },
    {
      "cell_type": "code",
      "source": [
        "dfar.isnull().sum()"
      ],
      "metadata": {
        "colab": {
          "base_uri": "https://localhost:8080/"
        },
        "id": "26UgTF9KoisH",
        "outputId": "df9c51f2-de69-4e84-a30f-7754b2263d66"
      },
      "execution_count": null,
      "outputs": [
        {
          "output_type": "execute_result",
          "data": {
            "text/plain": [
              "Partida Aduanera                          0\n",
              "Descripcion de la Partida Aduanera        0\n",
              "Aduana                                    0\n",
              "DUA                                       0\n",
              "Fecha                                     0\n",
              "AÑO                                       0\n",
              "MES                                       0\n",
              "FECHA_CONCAT                              0\n",
              "Cod. Tributario                           0\n",
              "Exportador                                2\n",
              "Importador                             3001\n",
              "Kg Bruto                                  0\n",
              "Kg Neto                                   0\n",
              "Toneladas                                 0\n",
              "Qty 1                                     0\n",
              "Und 1                                     0\n",
              "Qty 2                                     0\n",
              "Und 2                                     4\n",
              "U$ FOB Tot                                0\n",
              "Precio de exportación (USD FOB)           0\n",
              "U$ FOB Und 2                              0\n",
              "Pais de Destino                           0\n",
              "Puerto de destino                       336\n",
              "Via                                       0\n",
              "Agente Portuario                       1299\n",
              "Agente de Aduana                          0\n",
              "Descripcion Comercial                     0\n",
              "Descripcion1                              0\n",
              "Descripcion2                          17085\n",
              "Descripcion3                          24913\n",
              "Descripcion4                          11579\n",
              "Naviera                               22036\n",
              "PBI USA                                   0\n",
              "IBP                                       0\n",
              "dtype: int64"
            ]
          },
          "metadata": {},
          "execution_count": 5
        }
      ]
    },
    {
      "cell_type": "code",
      "source": [
        "dfar.dtypes"
      ],
      "metadata": {
        "colab": {
          "base_uri": "https://localhost:8080/"
        },
        "id": "khhcH1LHnfBB",
        "outputId": "d51ca042-74b0-4358-bb36-ef3412cc4ac6"
      },
      "execution_count": null,
      "outputs": [
        {
          "output_type": "execute_result",
          "data": {
            "text/plain": [
              "Partida Aduanera                               int64\n",
              "Descripcion de la Partida Aduanera            object\n",
              "Aduana                                        object\n",
              "DUA                                           object\n",
              "Fecha                                 datetime64[ns]\n",
              "AÑO                                            int64\n",
              "MES                                           object\n",
              "FECHA_CONCAT                                  object\n",
              "Cod. Tributario                                int64\n",
              "Exportador                                    object\n",
              "Importador                                    object\n",
              "Kg Bruto                                     float64\n",
              "Kg Neto                                      float64\n",
              "Toneladas                                    float64\n",
              "Qty 1                                        float64\n",
              "Und 1                                         object\n",
              "Qty 2                                        float64\n",
              "Und 2                                         object\n",
              "U$ FOB Tot                                   float64\n",
              "Precio de exportación (USD FOB)              float64\n",
              "U$ FOB Und 2                                 float64\n",
              "Pais de Destino                               object\n",
              "Puerto de destino                             object\n",
              "Via                                           object\n",
              "Agente Portuario                              object\n",
              "Agente de Aduana                              object\n",
              "Descripcion Comercial                         object\n",
              "Descripcion1                                  object\n",
              "Descripcion2                                  object\n",
              "Descripcion3                                  object\n",
              "Descripcion4                                  object\n",
              "Naviera                                       object\n",
              "PBI USA                                      float64\n",
              "IBP                                          float64\n",
              "dtype: object"
            ]
          },
          "metadata": {},
          "execution_count": 6
        }
      ]
    },
    {
      "cell_type": "markdown",
      "source": [
        "##3. EDA\n",
        "\n"
      ],
      "metadata": {
        "id": "DIjmz6p_FPaH"
      }
    },
    {
      "cell_type": "code",
      "source": [
        "dfar.shape"
      ],
      "metadata": {
        "colab": {
          "base_uri": "https://localhost:8080/"
        },
        "id": "i7cD_0x0BH6t",
        "outputId": "9e201f15-fe26-4171-9a5c-ce909016035c"
      },
      "execution_count": null,
      "outputs": [
        {
          "output_type": "execute_result",
          "data": {
            "text/plain": [
              "(84843, 34)"
            ]
          },
          "metadata": {},
          "execution_count": 7
        }
      ]
    },
    {
      "cell_type": "code",
      "source": [
        "#Nos interesa conocer mas acerca de la informacion de nuestro dataframe\n",
        "#A priori, analizaremos si lo datos tienen el tipo de dato que nos interesa (Numerica)\n",
        "#De igual manera, estandarizaremos las necesarias\n",
        "\n",
        "dfar.info()"
      ],
      "metadata": {
        "colab": {
          "base_uri": "https://localhost:8080/"
        },
        "id": "lKyu7cTLuCjZ",
        "outputId": "fcfda50c-7af5-4df2-a8a6-6a4b40284b7b"
      },
      "execution_count": null,
      "outputs": [
        {
          "output_type": "stream",
          "name": "stdout",
          "text": [
            "<class 'pandas.core.frame.DataFrame'>\n",
            "RangeIndex: 84843 entries, 0 to 84842\n",
            "Data columns (total 34 columns):\n",
            " #   Column                              Non-Null Count  Dtype         \n",
            "---  ------                              --------------  -----         \n",
            " 0   Partida Aduanera                    84843 non-null  int64         \n",
            " 1   Descripcion de la Partida Aduanera  84843 non-null  object        \n",
            " 2   Aduana                              84843 non-null  object        \n",
            " 3   DUA                                 84843 non-null  object        \n",
            " 4   Fecha                               84843 non-null  datetime64[ns]\n",
            " 5   AÑO                                 84843 non-null  int64         \n",
            " 6   MES                                 84843 non-null  object        \n",
            " 7   FECHA_CONCAT                        84843 non-null  object        \n",
            " 8   Cod. Tributario                     84843 non-null  int64         \n",
            " 9   Exportador                          84841 non-null  object        \n",
            " 10  Importador                          81842 non-null  object        \n",
            " 11  Kg Bruto                            84843 non-null  float64       \n",
            " 12  Kg Neto                             84843 non-null  float64       \n",
            " 13  Toneladas                           84843 non-null  float64       \n",
            " 14  Qty 1                               84843 non-null  float64       \n",
            " 15  Und 1                               84843 non-null  object        \n",
            " 16  Qty 2                               84843 non-null  float64       \n",
            " 17  Und 2                               84839 non-null  object        \n",
            " 18  U$ FOB Tot                          84843 non-null  float64       \n",
            " 19  Precio de exportación (USD FOB)     84843 non-null  float64       \n",
            " 20  U$ FOB Und 2                        84843 non-null  float64       \n",
            " 21  Pais de Destino                     84843 non-null  object        \n",
            " 22  Puerto de destino                   84507 non-null  object        \n",
            " 23  Via                                 84843 non-null  object        \n",
            " 24  Agente Portuario                    83544 non-null  object        \n",
            " 25  Agente de Aduana                    84843 non-null  object        \n",
            " 26  Descripcion Comercial               84843 non-null  object        \n",
            " 27  Descripcion1                        84843 non-null  object        \n",
            " 28  Descripcion2                        67758 non-null  object        \n",
            " 29  Descripcion3                        59930 non-null  object        \n",
            " 30  Descripcion4                        73264 non-null  object        \n",
            " 31  Naviera                             62807 non-null  object        \n",
            " 32  PBI USA                             84843 non-null  float64       \n",
            " 33  IBP                                 84843 non-null  float64       \n",
            "dtypes: datetime64[ns](1), float64(10), int64(3), object(20)\n",
            "memory usage: 22.0+ MB\n"
          ]
        }
      ]
    },
    {
      "cell_type": "code",
      "source": [
        "#Media de las Toneladas\n",
        "\n",
        "print(f\"Media: {np.mean(dfar['Kg Neto'])}\")\n",
        "print(f\"Mediana: {np.median(dfar['Kg Neto'])}\")\n"
      ],
      "metadata": {
        "colab": {
          "base_uri": "https://localhost:8080/"
        },
        "id": "H7H9k8SSNS8T",
        "outputId": "7b5720bb-1882-4433-8629-88c609250f8e"
      },
      "execution_count": null,
      "outputs": [
        {
          "output_type": "stream",
          "name": "stdout",
          "text": [
            "Media: 10445.70513489622\n",
            "Mediana: 11700.0\n"
          ]
        }
      ]
    },
    {
      "cell_type": "code",
      "source": [
        "#Informacion sobre las variables numericas\n",
        "\n",
        "dfar.describe().transpose()"
      ],
      "metadata": {
        "colab": {
          "base_uri": "https://localhost:8080/",
          "height": 457
        },
        "id": "T9FD6JT_F2NP",
        "outputId": "c378da7b-4f39-4389-95c6-1048043cdeb2"
      },
      "execution_count": null,
      "outputs": [
        {
          "output_type": "execute_result",
          "data": {
            "text/plain": [
              "                                   count          mean           std  \\\n",
              "Partida Aduanera                 84843.0  8.104000e+08  0.000000e+00   \n",
              "AÑO                              84843.0  2.020290e+03  1.535340e+00   \n",
              "Cod. Tributario                  84843.0  2.045529e+10  1.814667e+08   \n",
              "Kg Bruto                         84843.0  1.284593e+04  6.544702e+03   \n",
              "Kg Neto                          84843.0  1.044571e+04  5.487827e+03   \n",
              "Toneladas                        84843.0  1.044571e+01  5.487827e+00   \n",
              "Qty 1                            84843.0  1.044568e+04  5.487871e+03   \n",
              "Qty 2                            84843.0  4.043867e+03  2.757266e+03   \n",
              "U$ FOB Tot                       84843.0  6.187723e+04  3.952747e+04   \n",
              "Precio de exportación (USD FOB)  84843.0  6.189626e+03  2.244988e+04   \n",
              "U$ FOB Und 2                     84843.0  1.815406e+04  5.939029e+04   \n",
              "PBI USA                          84843.0  1.694314e+06  2.159865e+05   \n",
              "IBP                              84843.0  1.413676e+04  2.271436e+03   \n",
              "\n",
              "                                          min           25%           50%  \\\n",
              "Partida Aduanera                 8.104000e+08  8.104000e+08  8.104000e+08   \n",
              "AÑO                              2.017000e+03  2.019000e+03  2.021000e+03   \n",
              "Cod. Tributario                  0.000000e+00  2.034058e+10  2.052256e+10   \n",
              "Kg Bruto                         0.000000e+00  7.520700e+03  1.528800e+04   \n",
              "Kg Neto                          4.000000e-02  6.048000e+03  1.170000e+04   \n",
              "Toneladas                        4.000000e-05  6.048000e+00  1.170000e+01   \n",
              "Qty 1                            4.000000e-02  6.048000e+03  1.170000e+04   \n",
              "Qty 2                            0.000000e+00  1.920000e+03  4.080000e+03   \n",
              "U$ FOB Tot                       0.000000e+00  3.075100e+04  6.273800e+04   \n",
              "Precio de exportación (USD FOB)  0.000000e+00  4.661000e+03  5.803000e+03   \n",
              "U$ FOB Und 2                     0.000000e+00  1.019800e+04  1.529100e+04   \n",
              "PBI USA                          1.437296e+06  1.537777e+06  1.641639e+06   \n",
              "IBP                              4.972815e+03  1.190489e+04  1.421527e+04   \n",
              "\n",
              "                                          75%           max  \n",
              "Partida Aduanera                 8.104000e+08  8.104000e+08  \n",
              "AÑO                              2.022000e+03  2.022000e+03  \n",
              "Cod. Tributario                  2.060081e+10  2.061004e+10  \n",
              "Kg Bruto                         1.774000e+04  5.784000e+04  \n",
              "Kg Neto                          1.468800e+04  4.602240e+04  \n",
              "Toneladas                        1.468800e+01  4.602240e+01  \n",
              "Qty 1                            1.468800e+04  4.602240e+04  \n",
              "Qty 2                            5.760000e+03  5.444000e+04  \n",
              "U$ FOB Tot                       8.630200e+04  1.642423e+06  \n",
              "Precio de exportación (USD FOB)  7.085000e+03  4.666222e+06  \n",
              "U$ FOB Und 2                     2.231750e+04  1.457407e+07  \n",
              "PBI USA                          2.015092e+06  2.015092e+06  \n",
              "IBP                              1.649076e+04  1.664658e+04  "
            ],
            "text/html": [
              "\n",
              "  <div id=\"df-9a8f21f8-2700-42ca-89e7-a059367dc36b\">\n",
              "    <div class=\"colab-df-container\">\n",
              "      <div>\n",
              "<style scoped>\n",
              "    .dataframe tbody tr th:only-of-type {\n",
              "        vertical-align: middle;\n",
              "    }\n",
              "\n",
              "    .dataframe tbody tr th {\n",
              "        vertical-align: top;\n",
              "    }\n",
              "\n",
              "    .dataframe thead th {\n",
              "        text-align: right;\n",
              "    }\n",
              "</style>\n",
              "<table border=\"1\" class=\"dataframe\">\n",
              "  <thead>\n",
              "    <tr style=\"text-align: right;\">\n",
              "      <th></th>\n",
              "      <th>count</th>\n",
              "      <th>mean</th>\n",
              "      <th>std</th>\n",
              "      <th>min</th>\n",
              "      <th>25%</th>\n",
              "      <th>50%</th>\n",
              "      <th>75%</th>\n",
              "      <th>max</th>\n",
              "    </tr>\n",
              "  </thead>\n",
              "  <tbody>\n",
              "    <tr>\n",
              "      <th>Partida Aduanera</th>\n",
              "      <td>84843.0</td>\n",
              "      <td>8.104000e+08</td>\n",
              "      <td>0.000000e+00</td>\n",
              "      <td>8.104000e+08</td>\n",
              "      <td>8.104000e+08</td>\n",
              "      <td>8.104000e+08</td>\n",
              "      <td>8.104000e+08</td>\n",
              "      <td>8.104000e+08</td>\n",
              "    </tr>\n",
              "    <tr>\n",
              "      <th>AÑO</th>\n",
              "      <td>84843.0</td>\n",
              "      <td>2.020290e+03</td>\n",
              "      <td>1.535340e+00</td>\n",
              "      <td>2.017000e+03</td>\n",
              "      <td>2.019000e+03</td>\n",
              "      <td>2.021000e+03</td>\n",
              "      <td>2.022000e+03</td>\n",
              "      <td>2.022000e+03</td>\n",
              "    </tr>\n",
              "    <tr>\n",
              "      <th>Cod. Tributario</th>\n",
              "      <td>84843.0</td>\n",
              "      <td>2.045529e+10</td>\n",
              "      <td>1.814667e+08</td>\n",
              "      <td>0.000000e+00</td>\n",
              "      <td>2.034058e+10</td>\n",
              "      <td>2.052256e+10</td>\n",
              "      <td>2.060081e+10</td>\n",
              "      <td>2.061004e+10</td>\n",
              "    </tr>\n",
              "    <tr>\n",
              "      <th>Kg Bruto</th>\n",
              "      <td>84843.0</td>\n",
              "      <td>1.284593e+04</td>\n",
              "      <td>6.544702e+03</td>\n",
              "      <td>0.000000e+00</td>\n",
              "      <td>7.520700e+03</td>\n",
              "      <td>1.528800e+04</td>\n",
              "      <td>1.774000e+04</td>\n",
              "      <td>5.784000e+04</td>\n",
              "    </tr>\n",
              "    <tr>\n",
              "      <th>Kg Neto</th>\n",
              "      <td>84843.0</td>\n",
              "      <td>1.044571e+04</td>\n",
              "      <td>5.487827e+03</td>\n",
              "      <td>4.000000e-02</td>\n",
              "      <td>6.048000e+03</td>\n",
              "      <td>1.170000e+04</td>\n",
              "      <td>1.468800e+04</td>\n",
              "      <td>4.602240e+04</td>\n",
              "    </tr>\n",
              "    <tr>\n",
              "      <th>Toneladas</th>\n",
              "      <td>84843.0</td>\n",
              "      <td>1.044571e+01</td>\n",
              "      <td>5.487827e+00</td>\n",
              "      <td>4.000000e-05</td>\n",
              "      <td>6.048000e+00</td>\n",
              "      <td>1.170000e+01</td>\n",
              "      <td>1.468800e+01</td>\n",
              "      <td>4.602240e+01</td>\n",
              "    </tr>\n",
              "    <tr>\n",
              "      <th>Qty 1</th>\n",
              "      <td>84843.0</td>\n",
              "      <td>1.044568e+04</td>\n",
              "      <td>5.487871e+03</td>\n",
              "      <td>4.000000e-02</td>\n",
              "      <td>6.048000e+03</td>\n",
              "      <td>1.170000e+04</td>\n",
              "      <td>1.468800e+04</td>\n",
              "      <td>4.602240e+04</td>\n",
              "    </tr>\n",
              "    <tr>\n",
              "      <th>Qty 2</th>\n",
              "      <td>84843.0</td>\n",
              "      <td>4.043867e+03</td>\n",
              "      <td>2.757266e+03</td>\n",
              "      <td>0.000000e+00</td>\n",
              "      <td>1.920000e+03</td>\n",
              "      <td>4.080000e+03</td>\n",
              "      <td>5.760000e+03</td>\n",
              "      <td>5.444000e+04</td>\n",
              "    </tr>\n",
              "    <tr>\n",
              "      <th>U$ FOB Tot</th>\n",
              "      <td>84843.0</td>\n",
              "      <td>6.187723e+04</td>\n",
              "      <td>3.952747e+04</td>\n",
              "      <td>0.000000e+00</td>\n",
              "      <td>3.075100e+04</td>\n",
              "      <td>6.273800e+04</td>\n",
              "      <td>8.630200e+04</td>\n",
              "      <td>1.642423e+06</td>\n",
              "    </tr>\n",
              "    <tr>\n",
              "      <th>Precio de exportación (USD FOB)</th>\n",
              "      <td>84843.0</td>\n",
              "      <td>6.189626e+03</td>\n",
              "      <td>2.244988e+04</td>\n",
              "      <td>0.000000e+00</td>\n",
              "      <td>4.661000e+03</td>\n",
              "      <td>5.803000e+03</td>\n",
              "      <td>7.085000e+03</td>\n",
              "      <td>4.666222e+06</td>\n",
              "    </tr>\n",
              "    <tr>\n",
              "      <th>U$ FOB Und 2</th>\n",
              "      <td>84843.0</td>\n",
              "      <td>1.815406e+04</td>\n",
              "      <td>5.939029e+04</td>\n",
              "      <td>0.000000e+00</td>\n",
              "      <td>1.019800e+04</td>\n",
              "      <td>1.529100e+04</td>\n",
              "      <td>2.231750e+04</td>\n",
              "      <td>1.457407e+07</td>\n",
              "    </tr>\n",
              "    <tr>\n",
              "      <th>PBI USA</th>\n",
              "      <td>84843.0</td>\n",
              "      <td>1.694314e+06</td>\n",
              "      <td>2.159865e+05</td>\n",
              "      <td>1.437296e+06</td>\n",
              "      <td>1.537777e+06</td>\n",
              "      <td>1.641639e+06</td>\n",
              "      <td>2.015092e+06</td>\n",
              "      <td>2.015092e+06</td>\n",
              "    </tr>\n",
              "    <tr>\n",
              "      <th>IBP</th>\n",
              "      <td>84843.0</td>\n",
              "      <td>1.413676e+04</td>\n",
              "      <td>2.271436e+03</td>\n",
              "      <td>4.972815e+03</td>\n",
              "      <td>1.190489e+04</td>\n",
              "      <td>1.421527e+04</td>\n",
              "      <td>1.649076e+04</td>\n",
              "      <td>1.664658e+04</td>\n",
              "    </tr>\n",
              "  </tbody>\n",
              "</table>\n",
              "</div>\n",
              "      <button class=\"colab-df-convert\" onclick=\"convertToInteractive('df-9a8f21f8-2700-42ca-89e7-a059367dc36b')\"\n",
              "              title=\"Convert this dataframe to an interactive table.\"\n",
              "              style=\"display:none;\">\n",
              "        \n",
              "  <svg xmlns=\"http://www.w3.org/2000/svg\" height=\"24px\"viewBox=\"0 0 24 24\"\n",
              "       width=\"24px\">\n",
              "    <path d=\"M0 0h24v24H0V0z\" fill=\"none\"/>\n",
              "    <path d=\"M18.56 5.44l.94 2.06.94-2.06 2.06-.94-2.06-.94-.94-2.06-.94 2.06-2.06.94zm-11 1L8.5 8.5l.94-2.06 2.06-.94-2.06-.94L8.5 2.5l-.94 2.06-2.06.94zm10 10l.94 2.06.94-2.06 2.06-.94-2.06-.94-.94-2.06-.94 2.06-2.06.94z\"/><path d=\"M17.41 7.96l-1.37-1.37c-.4-.4-.92-.59-1.43-.59-.52 0-1.04.2-1.43.59L10.3 9.45l-7.72 7.72c-.78.78-.78 2.05 0 2.83L4 21.41c.39.39.9.59 1.41.59.51 0 1.02-.2 1.41-.59l7.78-7.78 2.81-2.81c.8-.78.8-2.07 0-2.86zM5.41 20L4 18.59l7.72-7.72 1.47 1.35L5.41 20z\"/>\n",
              "  </svg>\n",
              "      </button>\n",
              "      \n",
              "  <style>\n",
              "    .colab-df-container {\n",
              "      display:flex;\n",
              "      flex-wrap:wrap;\n",
              "      gap: 12px;\n",
              "    }\n",
              "\n",
              "    .colab-df-convert {\n",
              "      background-color: #E8F0FE;\n",
              "      border: none;\n",
              "      border-radius: 50%;\n",
              "      cursor: pointer;\n",
              "      display: none;\n",
              "      fill: #1967D2;\n",
              "      height: 32px;\n",
              "      padding: 0 0 0 0;\n",
              "      width: 32px;\n",
              "    }\n",
              "\n",
              "    .colab-df-convert:hover {\n",
              "      background-color: #E2EBFA;\n",
              "      box-shadow: 0px 1px 2px rgba(60, 64, 67, 0.3), 0px 1px 3px 1px rgba(60, 64, 67, 0.15);\n",
              "      fill: #174EA6;\n",
              "    }\n",
              "\n",
              "    [theme=dark] .colab-df-convert {\n",
              "      background-color: #3B4455;\n",
              "      fill: #D2E3FC;\n",
              "    }\n",
              "\n",
              "    [theme=dark] .colab-df-convert:hover {\n",
              "      background-color: #434B5C;\n",
              "      box-shadow: 0px 1px 3px 1px rgba(0, 0, 0, 0.15);\n",
              "      filter: drop-shadow(0px 1px 2px rgba(0, 0, 0, 0.3));\n",
              "      fill: #FFFFFF;\n",
              "    }\n",
              "  </style>\n",
              "\n",
              "      <script>\n",
              "        const buttonEl =\n",
              "          document.querySelector('#df-9a8f21f8-2700-42ca-89e7-a059367dc36b button.colab-df-convert');\n",
              "        buttonEl.style.display =\n",
              "          google.colab.kernel.accessAllowed ? 'block' : 'none';\n",
              "\n",
              "        async function convertToInteractive(key) {\n",
              "          const element = document.querySelector('#df-9a8f21f8-2700-42ca-89e7-a059367dc36b');\n",
              "          const dataTable =\n",
              "            await google.colab.kernel.invokeFunction('convertToInteractive',\n",
              "                                                     [key], {});\n",
              "          if (!dataTable) return;\n",
              "\n",
              "          const docLinkHtml = 'Like what you see? Visit the ' +\n",
              "            '<a target=\"_blank\" href=https://colab.research.google.com/notebooks/data_table.ipynb>data table notebook</a>'\n",
              "            + ' to learn more about interactive tables.';\n",
              "          element.innerHTML = '';\n",
              "          dataTable['output_type'] = 'display_data';\n",
              "          await google.colab.output.renderOutput(dataTable, element);\n",
              "          const docLink = document.createElement('div');\n",
              "          docLink.innerHTML = docLinkHtml;\n",
              "          element.appendChild(docLink);\n",
              "        }\n",
              "      </script>\n",
              "    </div>\n",
              "  </div>\n",
              "  "
            ]
          },
          "metadata": {},
          "execution_count": 124
        }
      ]
    },
    {
      "cell_type": "code",
      "source": [
        "#Analizamos previamente la distribucion de nuestra variable dependiente\n",
        "\n",
        "dfar['U$ FOB Tot'].hist(bins = 15)"
      ],
      "metadata": {
        "colab": {
          "base_uri": "https://localhost:8080/",
          "height": 465
        },
        "id": "e0iYP0IEAmJo",
        "outputId": "24c0f030-66f9-42c9-e1c7-0569b0e38125"
      },
      "execution_count": null,
      "outputs": [
        {
          "output_type": "execute_result",
          "data": {
            "text/plain": [
              "<Axes: >"
            ]
          },
          "metadata": {},
          "execution_count": 139
        },
        {
          "output_type": "display_data",
          "data": {
            "text/plain": [
              "<Figure size 640x480 with 1 Axes>"
            ],
            "image/png": "[encoded data removed]"
          },
          "metadata": {}
        }
      ]
    },
    {
      "cell_type": "code",
      "source": [
        "#Analizamos las variables que puedan afectar nuestro analisis (blancos)\n",
        "\n",
        "dfar.select_dtypes(exclude = 'object').isnull().sum()"
      ],
      "metadata": {
        "colab": {
          "base_uri": "https://localhost:8080/"
        },
        "id": "s0xpF5-mJYMf",
        "outputId": "1fcf6f98-cc48-463c-c3f8-82bc54def2a2"
      },
      "execution_count": null,
      "outputs": [
        {
          "output_type": "execute_result",
          "data": {
            "text/plain": [
              "Partida Aduanera                   0\n",
              "Fecha                              0\n",
              "AÑO                                0\n",
              "Cod. Tributario                    0\n",
              "Kg Bruto                           0\n",
              "Kg Neto                            0\n",
              "Toneladas                          0\n",
              "Qty 1                              0\n",
              "Qty 2                              0\n",
              "U$ FOB Tot                         0\n",
              "Precio de exportación (USD FOB)    0\n",
              "U$ FOB Und 2                       0\n",
              "PBI USA                            0\n",
              "IBP                                0\n",
              "dtype: int64"
            ]
          },
          "metadata": {},
          "execution_count": 126
        }
      ]
    },
    {
      "cell_type": "code",
      "source": [
        "#Seleccion de variables\n",
        "\n",
        "tcols = list(dfar.columns)\n",
        "ckick = dfar.select_dtypes(include = 'object').columns.tolist() + ['AÑO','Partida Aduanera', 'Cod. Tributario', 'Qty 1', 'Qty 2', 'Kg Bruto', 'Toneladas']\n",
        "\n",
        "features = set(tcols) - set(ckick)\n",
        "list(features)"
      ],
      "metadata": {
        "colab": {
          "base_uri": "https://localhost:8080/"
        },
        "id": "xxvAtmu_3Nar",
        "outputId": "682a5e09-a0e6-4728-be3e-72263b340335"
      },
      "execution_count": null,
      "outputs": [
        {
          "output_type": "execute_result",
          "data": {
            "text/plain": [
              "['PBI USA',\n",
              " 'Kg Neto',\n",
              " 'Precio de exportación (USD FOB)',\n",
              " 'U$ FOB Und 2',\n",
              " 'U$ FOB Tot',\n",
              " 'Fecha',\n",
              " 'IBP']"
            ]
          },
          "metadata": {},
          "execution_count": 127
        }
      ]
    },
    {
      "cell_type": "code",
      "source": [
        "#Dataframe con las variables a analizar\n",
        "\n",
        "dfsample = dfar[features]\n",
        "dfsample.head()"
      ],
      "metadata": {
        "colab": {
          "base_uri": "https://localhost:8080/",
          "height": 241
        },
        "id": "n324tCSPwd3m",
        "outputId": "e3fc0eb6-c50b-4afa-85d4-2dbea1e0a67e"
      },
      "execution_count": null,
      "outputs": [
        {
          "output_type": "stream",
          "name": "stderr",
          "text": [
            "<ipython-input-128-066ceef26c01>:3: FutureWarning: Passing a set as an indexer is deprecated and will raise in a future version. Use a list instead.\n",
            "  dfsample = dfar[features]\n"
          ]
        },
        {
          "output_type": "execute_result",
          "data": {
            "text/plain": [
              "     PBI USA  Kg Neto  Precio de exportación (USD FOB)  U$ FOB Und 2  \\\n",
              "0  1437296.0   3840.0                           8500.0       17000.0   \n",
              "1  1437296.0    765.0                           8873.0       13309.0   \n",
              "2  1437296.0  14688.0                          16257.0       99495.0   \n",
              "3  1437296.0   9000.0                           7592.0       11388.0   \n",
              "4  1437296.0   1836.0                           8162.0       16652.0   \n",
              "\n",
              "   U$ FOB Tot      Fecha           IBP  \n",
              "0     32640.0 2017-10-18  11248.220553  \n",
              "1      6788.0 2017-10-18  11248.220553  \n",
              "2    238789.0 2017-10-18  11248.220553  \n",
              "3     68331.0 2017-10-18  11248.220553  \n",
              "4     14987.0 2017-10-18  11248.220553  "
            ],
            "text/html": [
              "\n",
              "  <div id=\"df-7523132d-c351-4489-b55e-6c4f2edb7c6d\">\n",
              "    <div class=\"colab-df-container\">\n",
              "      <div>\n",
              "<style scoped>\n",
              "    .dataframe tbody tr th:only-of-type {\n",
              "        vertical-align: middle;\n",
              "    }\n",
              "\n",
              "    .dataframe tbody tr th {\n",
              "        vertical-align: top;\n",
              "    }\n",
              "\n",
              "    .dataframe thead th {\n",
              "        text-align: right;\n",
              "    }\n",
              "</style>\n",
              "<table border=\"1\" class=\"dataframe\">\n",
              "  <thead>\n",
              "    <tr style=\"text-align: right;\">\n",
              "      <th></th>\n",
              "      <th>PBI USA</th>\n",
              "      <th>Kg Neto</th>\n",
              "      <th>Precio de exportación (USD FOB)</th>\n",
              "      <th>U$ FOB Und 2</th>\n",
              "      <th>U$ FOB Tot</th>\n",
              "      <th>Fecha</th>\n",
              "      <th>IBP</th>\n",
              "    </tr>\n",
              "  </thead>\n",
              "  <tbody>\n",
              "    <tr>\n",
              "      <th>0</th>\n",
              "      <td>1437296.0</td>\n",
              "      <td>3840.0</td>\n",
              "      <td>8500.0</td>\n",
              "      <td>17000.0</td>\n",
              "      <td>32640.0</td>\n",
              "      <td>2017-10-18</td>\n",
              "      <td>11248.220553</td>\n",
              "    </tr>\n",
              "    <tr>\n",
              "      <th>1</th>\n",
              "      <td>1437296.0</td>\n",
              "      <td>765.0</td>\n",
              "      <td>8873.0</td>\n",
              "      <td>13309.0</td>\n",
              "      <td>6788.0</td>\n",
              "      <td>2017-10-18</td>\n",
              "      <td>11248.220553</td>\n",
              "    </tr>\n",
              "    <tr>\n",
              "      <th>2</th>\n",
              "      <td>1437296.0</td>\n",
              "      <td>14688.0</td>\n",
              "      <td>16257.0</td>\n",
              "      <td>99495.0</td>\n",
              "      <td>238789.0</td>\n",
              "      <td>2017-10-18</td>\n",
              "      <td>11248.220553</td>\n",
              "    </tr>\n",
              "    <tr>\n",
              "      <th>3</th>\n",
              "      <td>1437296.0</td>\n",
              "      <td>9000.0</td>\n",
              "      <td>7592.0</td>\n",
              "      <td>11388.0</td>\n",
              "      <td>68331.0</td>\n",
              "      <td>2017-10-18</td>\n",
              "      <td>11248.220553</td>\n",
              "    </tr>\n",
              "    <tr>\n",
              "      <th>4</th>\n",
              "      <td>1437296.0</td>\n",
              "      <td>1836.0</td>\n",
              "      <td>8162.0</td>\n",
              "      <td>16652.0</td>\n",
              "      <td>14987.0</td>\n",
              "      <td>2017-10-18</td>\n",
              "      <td>11248.220553</td>\n",
              "    </tr>\n",
              "  </tbody>\n",
              "</table>\n",
              "</div>\n",
              "      <button class=\"colab-df-convert\" onclick=\"convertToInteractive('df-7523132d-c351-4489-b55e-6c4f2edb7c6d')\"\n",
              "              title=\"Convert this dataframe to an interactive table.\"\n",
              "              style=\"display:none;\">\n",
              "        \n",
              "  <svg xmlns=\"http://www.w3.org/2000/svg\" height=\"24px\"viewBox=\"0 0 24 24\"\n",
              "       width=\"24px\">\n",
              "    <path d=\"M0 0h24v24H0V0z\" fill=\"none\"/>\n",
              "    <path d=\"M18.56 5.44l.94 2.06.94-2.06 2.06-.94-2.06-.94-.94-2.06-.94 2.06-2.06.94zm-11 1L8.5 8.5l.94-2.06 2.06-.94-2.06-.94L8.5 2.5l-.94 2.06-2.06.94zm10 10l.94 2.06.94-2.06 2.06-.94-2.06-.94-.94-2.06-.94 2.06-2.06.94z\"/><path d=\"M17.41 7.96l-1.37-1.37c-.4-.4-.92-.59-1.43-.59-.52 0-1.04.2-1.43.59L10.3 9.45l-7.72 7.72c-.78.78-.78 2.05 0 2.83L4 21.41c.39.39.9.59 1.41.59.51 0 1.02-.2 1.41-.59l7.78-7.78 2.81-2.81c.8-.78.8-2.07 0-2.86zM5.41 20L4 18.59l7.72-7.72 1.47 1.35L5.41 20z\"/>\n",
              "  </svg>\n",
              "      </button>\n",
              "      \n",
              "  <style>\n",
              "    .colab-df-container {\n",
              "      display:flex;\n",
              "      flex-wrap:wrap;\n",
              "      gap: 12px;\n",
              "    }\n",
              "\n",
              "    .colab-df-convert {\n",
              "      background-color: #E8F0FE;\n",
              "      border: none;\n",
              "      border-radius: 50%;\n",
              "      cursor: pointer;\n",
              "      display: none;\n",
              "      fill: #1967D2;\n",
              "      height: 32px;\n",
              "      padding: 0 0 0 0;\n",
              "      width: 32px;\n",
              "    }\n",
              "\n",
              "    .colab-df-convert:hover {\n",
              "      background-color: #E2EBFA;\n",
              "      box-shadow: 0px 1px 2px rgba(60, 64, 67, 0.3), 0px 1px 3px 1px rgba(60, 64, 67, 0.15);\n",
              "      fill: #174EA6;\n",
              "    }\n",
              "\n",
              "    [theme=dark] .colab-df-convert {\n",
              "      background-color: #3B4455;\n",
              "      fill: #D2E3FC;\n",
              "    }\n",
              "\n",
              "    [theme=dark] .colab-df-convert:hover {\n",
              "      background-color: #434B5C;\n",
              "      box-shadow: 0px 1px 3px 1px rgba(0, 0, 0, 0.15);\n",
              "      filter: drop-shadow(0px 1px 2px rgba(0, 0, 0, 0.3));\n",
              "      fill: #FFFFFF;\n",
              "    }\n",
              "  </style>\n",
              "\n",
              "      <script>\n",
              "        const buttonEl =\n",
              "          document.querySelector('#df-7523132d-c351-4489-b55e-6c4f2edb7c6d button.colab-df-convert');\n",
              "        buttonEl.style.display =\n",
              "          google.colab.kernel.accessAllowed ? 'block' : 'none';\n",
              "\n",
              "        async function convertToInteractive(key) {\n",
              "          const element = document.querySelector('#df-7523132d-c351-4489-b55e-6c4f2edb7c6d');\n",
              "          const dataTable =\n",
              "            await google.colab.kernel.invokeFunction('convertToInteractive',\n",
              "                                                     [key], {});\n",
              "          if (!dataTable) return;\n",
              "\n",
              "          const docLinkHtml = 'Like what you see? Visit the ' +\n",
              "            '<a target=\"_blank\" href=https://colab.research.google.com/notebooks/data_table.ipynb>data table notebook</a>'\n",
              "            + ' to learn more about interactive tables.';\n",
              "          element.innerHTML = '';\n",
              "          dataTable['output_type'] = 'display_data';\n",
              "          await google.colab.output.renderOutput(dataTable, element);\n",
              "          const docLink = document.createElement('div');\n",
              "          docLink.innerHTML = docLinkHtml;\n",
              "          element.appendChild(docLink);\n",
              "        }\n",
              "      </script>\n",
              "    </div>\n",
              "  </div>\n",
              "  "
            ]
          },
          "metadata": {},
          "execution_count": 128
        }
      ]
    },
    {
      "cell_type": "code",
      "source": [
        "#Seleccion de muestra:\n",
        "\n",
        "from sklearn.model_selection import train_test_split\n",
        "\n",
        "train, test = train_test_split(dfsample,\n",
        "                               train_size = 0.7,\n",
        "                               random_state = 123)\n",
        "\n",
        "print(f\"Total data size: {dfsample.shape}\")\n",
        "print(f\"Total train size: {train.shape}\")\n",
        "print(f\"Total test size: {test.shape}\")"
      ],
      "metadata": {
        "colab": {
          "base_uri": "https://localhost:8080/"
        },
        "id": "EcklJgtWxvSo",
        "outputId": "8ace1089-22b7-4ff0-e83a-192080e20a70"
      },
      "execution_count": null,
      "outputs": [
        {
          "output_type": "stream",
          "name": "stdout",
          "text": [
            "Total data size: (84843, 7)\n",
            "Total train size: (59390, 7)\n",
            "Total test size: (25453, 7)\n"
          ]
        }
      ]
    },
    {
      "cell_type": "markdown",
      "source": [
        "##4. DATA TREATMENT"
      ],
      "metadata": {
        "id": "OxY8NhiRp8yr"
      }
    },
    {
      "cell_type": "markdown",
      "source": [
        "ANALISIS BIVARIADO"
      ],
      "metadata": {
        "id": "WMnH5D7Mvc9D"
      }
    },
    {
      "cell_type": "code",
      "source": [
        "sns.regplot(x = 'PBI USA', y = 'Toneladas', data=dfsample.loc[dfsample.Toneladas < 40])"
      ],
      "metadata": {
        "colab": {
          "base_uri": "https://localhost:8080/",
          "height": 469
        },
        "id": "j6sBEoCovNCh",
        "outputId": "212cfd46-332f-44e4-c1c5-19f124e6064e"
      },
      "execution_count": null,
      "outputs": [
        {
          "output_type": "execute_result",
          "data": {
            "text/plain": [
              "<Axes: xlabel='PBI USA', ylabel='Toneladas'>"
            ]
          },
          "metadata": {},
          "execution_count": 62
        },
        {
          "output_type": "display_data",
          "data": {
            "text/plain": [
              "<Figure size 640x480 with 1 Axes>"
            ],
            "image/png": "[encoded data removed]"
          },
          "metadata": {}
        }
      ]
    },
    {
      "cell_type": "code",
      "source": [
        "#Matriz de correlacion\n",
        "\n",
        "corr_matrix = train.corr()\n",
        "corr_matrix.reset_index( inplace = True )\n",
        "corr_matrix.rename(columns = {'index': 'feature', 'Kg Neto': 'correl'}, inplace = True)\n",
        "corr_matrix = corr_matrix[['feature', 'correl']]\n",
        "\n",
        "corr_matrix"
      ],
      "metadata": {
        "colab": {
          "base_uri": "https://localhost:8080/",
          "height": 292
        },
        "id": "_Z-SsI5R4QNA",
        "outputId": "e25e8362-f63a-42a2-b59b-4010f7f9f798"
      },
      "execution_count": null,
      "outputs": [
        {
          "output_type": "stream",
          "name": "stderr",
          "text": [
            "<ipython-input-160-84d7f4fda2cc>:3: FutureWarning: The default value of numeric_only in DataFrame.corr is deprecated. In a future version, it will default to False. Select only valid columns or specify the value of numeric_only to silence this warning.\n",
            "  corr_matrix = train.corr()\n"
          ]
        },
        {
          "output_type": "execute_result",
          "data": {
            "text/plain": [
              "                           feature    correl\n",
              "0                          PBI USA  0.107297\n",
              "1                          Kg Neto  1.000000\n",
              "2  Precio de exportación (USD FOB) -0.022115\n",
              "3                     U$ FOB Und 2  0.011735\n",
              "4                       U$ FOB Tot  0.772801\n",
              "5                              IBP  0.182643"
            ],
            "text/html": [
              "\n",
              "  <div id=\"df-fa4d5989-34e9-4588-81cf-87a862c87ad5\">\n",
              "    <div class=\"colab-df-container\">\n",
              "      <div>\n",
              "<style scoped>\n",
              "    .dataframe tbody tr th:only-of-type {\n",
              "        vertical-align: middle;\n",
              "    }\n",
              "\n",
              "    .dataframe tbody tr th {\n",
              "        vertical-align: top;\n",
              "    }\n",
              "\n",
              "    .dataframe thead th {\n",
              "        text-align: right;\n",
              "    }\n",
              "</style>\n",
              "<table border=\"1\" class=\"dataframe\">\n",
              "  <thead>\n",
              "    <tr style=\"text-align: right;\">\n",
              "      <th></th>\n",
              "      <th>feature</th>\n",
              "      <th>correl</th>\n",
              "    </tr>\n",
              "  </thead>\n",
              "  <tbody>\n",
              "    <tr>\n",
              "      <th>0</th>\n",
              "      <td>PBI USA</td>\n",
              "      <td>0.107297</td>\n",
              "    </tr>\n",
              "    <tr>\n",
              "      <th>1</th>\n",
              "      <td>Kg Neto</td>\n",
              "      <td>1.000000</td>\n",
              "    </tr>\n",
              "    <tr>\n",
              "      <th>2</th>\n",
              "      <td>Precio de exportación (USD FOB)</td>\n",
              "      <td>-0.022115</td>\n",
              "    </tr>\n",
              "    <tr>\n",
              "      <th>3</th>\n",
              "      <td>U$ FOB Und 2</td>\n",
              "      <td>0.011735</td>\n",
              "    </tr>\n",
              "    <tr>\n",
              "      <th>4</th>\n",
              "      <td>U$ FOB Tot</td>\n",
              "      <td>0.772801</td>\n",
              "    </tr>\n",
              "    <tr>\n",
              "      <th>5</th>\n",
              "      <td>IBP</td>\n",
              "      <td>0.182643</td>\n",
              "    </tr>\n",
              "  </tbody>\n",
              "</table>\n",
              "</div>\n",
              "      <button class=\"colab-df-convert\" onclick=\"convertToInteractive('df-fa4d5989-34e9-4588-81cf-87a862c87ad5')\"\n",
              "              title=\"Convert this dataframe to an interactive table.\"\n",
              "              style=\"display:none;\">\n",
              "        \n",
              "  <svg xmlns=\"http://www.w3.org/2000/svg\" height=\"24px\"viewBox=\"0 0 24 24\"\n",
              "       width=\"24px\">\n",
              "    <path d=\"M0 0h24v24H0V0z\" fill=\"none\"/>\n",
              "    <path d=\"M18.56 5.44l.94 2.06.94-2.06 2.06-.94-2.06-.94-.94-2.06-.94 2.06-2.06.94zm-11 1L8.5 8.5l.94-2.06 2.06-.94-2.06-.94L8.5 2.5l-.94 2.06-2.06.94zm10 10l.94 2.06.94-2.06 2.06-.94-2.06-.94-.94-2.06-.94 2.06-2.06.94z\"/><path d=\"M17.41 7.96l-1.37-1.37c-.4-.4-.92-.59-1.43-.59-.52 0-1.04.2-1.43.59L10.3 9.45l-7.72 7.72c-.78.78-.78 2.05 0 2.83L4 21.41c.39.39.9.59 1.41.59.51 0 1.02-.2 1.41-.59l7.78-7.78 2.81-2.81c.8-.78.8-2.07 0-2.86zM5.41 20L4 18.59l7.72-7.72 1.47 1.35L5.41 20z\"/>\n",
              "  </svg>\n",
              "      </button>\n",
              "      \n",
              "  <style>\n",
              "    .colab-df-container {\n",
              "      display:flex;\n",
              "      flex-wrap:wrap;\n",
              "      gap: 12px;\n",
              "    }\n",
              "\n",
              "    .colab-df-convert {\n",
              "      background-color: #E8F0FE;\n",
              "      border: none;\n",
              "      border-radius: 50%;\n",
              "      cursor: pointer;\n",
              "      display: none;\n",
              "      fill: #1967D2;\n",
              "      height: 32px;\n",
              "      padding: 0 0 0 0;\n",
              "      width: 32px;\n",
              "    }\n",
              "\n",
              "    .colab-df-convert:hover {\n",
              "      background-color: #E2EBFA;\n",
              "      box-shadow: 0px 1px 2px rgba(60, 64, 67, 0.3), 0px 1px 3px 1px rgba(60, 64, 67, 0.15);\n",
              "      fill: #174EA6;\n",
              "    }\n",
              "\n",
              "    [theme=dark] .colab-df-convert {\n",
              "      background-color: #3B4455;\n",
              "      fill: #D2E3FC;\n",
              "    }\n",
              "\n",
              "    [theme=dark] .colab-df-convert:hover {\n",
              "      background-color: #434B5C;\n",
              "      box-shadow: 0px 1px 3px 1px rgba(0, 0, 0, 0.15);\n",
              "      filter: drop-shadow(0px 1px 2px rgba(0, 0, 0, 0.3));\n",
              "      fill: #FFFFFF;\n",
              "    }\n",
              "  </style>\n",
              "\n",
              "      <script>\n",
              "        const buttonEl =\n",
              "          document.querySelector('#df-fa4d5989-34e9-4588-81cf-87a862c87ad5 button.colab-df-convert');\n",
              "        buttonEl.style.display =\n",
              "          google.colab.kernel.accessAllowed ? 'block' : 'none';\n",
              "\n",
              "        async function convertToInteractive(key) {\n",
              "          const element = document.querySelector('#df-fa4d5989-34e9-4588-81cf-87a862c87ad5');\n",
              "          const dataTable =\n",
              "            await google.colab.kernel.invokeFunction('convertToInteractive',\n",
              "                                                     [key], {});\n",
              "          if (!dataTable) return;\n",
              "\n",
              "          const docLinkHtml = 'Like what you see? Visit the ' +\n",
              "            '<a target=\"_blank\" href=https://colab.research.google.com/notebooks/data_table.ipynb>data table notebook</a>'\n",
              "            + ' to learn more about interactive tables.';\n",
              "          element.innerHTML = '';\n",
              "          dataTable['output_type'] = 'display_data';\n",
              "          await google.colab.output.renderOutput(dataTable, element);\n",
              "          const docLink = document.createElement('div');\n",
              "          docLink.innerHTML = docLinkHtml;\n",
              "          element.appendChild(docLink);\n",
              "        }\n",
              "      </script>\n",
              "    </div>\n",
              "  </div>\n",
              "  "
            ]
          },
          "metadata": {},
          "execution_count": 160
        }
      ]
    },
    {
      "cell_type": "code",
      "source": [
        "sns.regplot(x = 'U$ FOB Tot', y = 'Kg Neto', data = train)"
      ],
      "metadata": {
        "colab": {
          "base_uri": "https://localhost:8080/",
          "height": 466
        },
        "id": "yynBLJG49NMP",
        "outputId": "41b94f9a-a6b4-4092-c909-fa90050758d2"
      },
      "execution_count": null,
      "outputs": [
        {
          "output_type": "execute_result",
          "data": {
            "text/plain": [
              "<Axes: xlabel='U$ FOB Tot', ylabel='Kg Neto'>"
            ]
          },
          "metadata": {},
          "execution_count": 161
        },
        {
          "output_type": "display_data",
          "data": {
            "text/plain": [
              "<Figure size 640x480 with 1 Axes>"
            ],
            "image/png": "[encoded data removed]"
          },
          "metadata": {}
        }
      ]
    },
    {
      "cell_type": "code",
      "source": [
        "#Tratamiento univariado\n",
        "\n",
        "univ = train.describe().transpose()\n",
        "univ.reset_index(inplace = True)\n",
        "univ.head()\n",
        "\n",
        "univ.rename(columns = {'index':'feature',\n",
        "                             '25%': 'Q1',\n",
        "                             '50%': 'median',\n",
        "                             '75%': 'Q3'}, inplace = True)\n",
        "\n",
        "univ[['missing_rate']] = 1 - univ[['count']]/train.shape[0]\n",
        "univ"
      ],
      "metadata": {
        "colab": {
          "base_uri": "https://localhost:8080/",
          "height": 238
        },
        "id": "j3H6DwM5HNJL",
        "outputId": "662d0f8c-ed0e-4403-a9ec-77cd092b9022"
      },
      "execution_count": null,
      "outputs": [
        {
          "output_type": "execute_result",
          "data": {
            "text/plain": [
              "                           feature    count          mean            std  \\\n",
              "0                          PBI USA  59390.0  1.695151e+06  216216.376885   \n",
              "1                          Kg Neto  59390.0  1.044274e+04    5494.769533   \n",
              "2  Precio de exportación (USD FOB)  59390.0  6.229491e+03   26699.476365   \n",
              "3                     U$ FOB Und 2  59390.0  1.829724e+04   70502.280828   \n",
              "4                       U$ FOB Tot  59390.0  6.183122e+04   39214.470286   \n",
              "5                              IBP  59390.0  1.414535e+04    2271.618897   \n",
              "\n",
              "            min            Q1        median            Q3           max  \\\n",
              "0  1.437296e+06  1.537777e+06  1.641639e+06  2.015092e+06  2.015092e+06   \n",
              "1  1.300000e-01  6.043935e+03  1.170000e+04  1.468800e+04  4.602240e+04   \n",
              "2  0.000000e+00  4.654000e+03  5.800000e+03  7.075000e+03  4.666222e+06   \n",
              "3  0.000000e+00  1.017100e+04  1.527700e+04  2.237200e+04  1.457407e+07   \n",
              "4  0.000000e+00  3.070650e+04  6.273800e+04  8.624075e+04  5.893890e+05   \n",
              "5  4.972815e+03  1.190489e+04  1.427351e+04  1.649076e+04  1.664658e+04   \n",
              "\n",
              "   missing_rate  \n",
              "0           0.0  \n",
              "1           0.0  \n",
              "2           0.0  \n",
              "3           0.0  \n",
              "4           0.0  \n",
              "5           0.0  "
            ],
            "text/html": [
              "\n",
              "  <div id=\"df-9baa1268-1131-4598-8ad1-19049d53b76e\">\n",
              "    <div class=\"colab-df-container\">\n",
              "      <div>\n",
              "<style scoped>\n",
              "    .dataframe tbody tr th:only-of-type {\n",
              "        vertical-align: middle;\n",
              "    }\n",
              "\n",
              "    .dataframe tbody tr th {\n",
              "        vertical-align: top;\n",
              "    }\n",
              "\n",
              "    .dataframe thead th {\n",
              "        text-align: right;\n",
              "    }\n",
              "</style>\n",
              "<table border=\"1\" class=\"dataframe\">\n",
              "  <thead>\n",
              "    <tr style=\"text-align: right;\">\n",
              "      <th></th>\n",
              "      <th>feature</th>\n",
              "      <th>count</th>\n",
              "      <th>mean</th>\n",
              "      <th>std</th>\n",
              "      <th>min</th>\n",
              "      <th>Q1</th>\n",
              "      <th>median</th>\n",
              "      <th>Q3</th>\n",
              "      <th>max</th>\n",
              "      <th>missing_rate</th>\n",
              "    </tr>\n",
              "  </thead>\n",
              "  <tbody>\n",
              "    <tr>\n",
              "      <th>0</th>\n",
              "      <td>PBI USA</td>\n",
              "      <td>59390.0</td>\n",
              "      <td>1.695151e+06</td>\n",
              "      <td>216216.376885</td>\n",
              "      <td>1.437296e+06</td>\n",
              "      <td>1.537777e+06</td>\n",
              "      <td>1.641639e+06</td>\n",
              "      <td>2.015092e+06</td>\n",
              "      <td>2.015092e+06</td>\n",
              "      <td>0.0</td>\n",
              "    </tr>\n",
              "    <tr>\n",
              "      <th>1</th>\n",
              "      <td>Kg Neto</td>\n",
              "      <td>59390.0</td>\n",
              "      <td>1.044274e+04</td>\n",
              "      <td>5494.769533</td>\n",
              "      <td>1.300000e-01</td>\n",
              "      <td>6.043935e+03</td>\n",
              "      <td>1.170000e+04</td>\n",
              "      <td>1.468800e+04</td>\n",
              "      <td>4.602240e+04</td>\n",
              "      <td>0.0</td>\n",
              "    </tr>\n",
              "    <tr>\n",
              "      <th>2</th>\n",
              "      <td>Precio de exportación (USD FOB)</td>\n",
              "      <td>59390.0</td>\n",
              "      <td>6.229491e+03</td>\n",
              "      <td>26699.476365</td>\n",
              "      <td>0.000000e+00</td>\n",
              "      <td>4.654000e+03</td>\n",
              "      <td>5.800000e+03</td>\n",
              "      <td>7.075000e+03</td>\n",
              "      <td>4.666222e+06</td>\n",
              "      <td>0.0</td>\n",
              "    </tr>\n",
              "    <tr>\n",
              "      <th>3</th>\n",
              "      <td>U$ FOB Und 2</td>\n",
              "      <td>59390.0</td>\n",
              "      <td>1.829724e+04</td>\n",
              "      <td>70502.280828</td>\n",
              "      <td>0.000000e+00</td>\n",
              "      <td>1.017100e+04</td>\n",
              "      <td>1.527700e+04</td>\n",
              "      <td>2.237200e+04</td>\n",
              "      <td>1.457407e+07</td>\n",
              "      <td>0.0</td>\n",
              "    </tr>\n",
              "    <tr>\n",
              "      <th>4</th>\n",
              "      <td>U$ FOB Tot</td>\n",
              "      <td>59390.0</td>\n",
              "      <td>6.183122e+04</td>\n",
              "      <td>39214.470286</td>\n",
              "      <td>0.000000e+00</td>\n",
              "      <td>3.070650e+04</td>\n",
              "      <td>6.273800e+04</td>\n",
              "      <td>8.624075e+04</td>\n",
              "      <td>5.893890e+05</td>\n",
              "      <td>0.0</td>\n",
              "    </tr>\n",
              "    <tr>\n",
              "      <th>5</th>\n",
              "      <td>IBP</td>\n",
              "      <td>59390.0</td>\n",
              "      <td>1.414535e+04</td>\n",
              "      <td>2271.618897</td>\n",
              "      <td>4.972815e+03</td>\n",
              "      <td>1.190489e+04</td>\n",
              "      <td>1.427351e+04</td>\n",
              "      <td>1.649076e+04</td>\n",
              "      <td>1.664658e+04</td>\n",
              "      <td>0.0</td>\n",
              "    </tr>\n",
              "  </tbody>\n",
              "</table>\n",
              "</div>\n",
              "      <button class=\"colab-df-convert\" onclick=\"convertToInteractive('df-9baa1268-1131-4598-8ad1-19049d53b76e')\"\n",
              "              title=\"Convert this dataframe to an interactive table.\"\n",
              "              style=\"display:none;\">\n",
              "        \n",
              "  <svg xmlns=\"http://www.w3.org/2000/svg\" height=\"24px\"viewBox=\"0 0 24 24\"\n",
              "       width=\"24px\">\n",
              "    <path d=\"M0 0h24v24H0V0z\" fill=\"none\"/>\n",
              "    <path d=\"M18.56 5.44l.94 2.06.94-2.06 2.06-.94-2.06-.94-.94-2.06-.94 2.06-2.06.94zm-11 1L8.5 8.5l.94-2.06 2.06-.94-2.06-.94L8.5 2.5l-.94 2.06-2.06.94zm10 10l.94 2.06.94-2.06 2.06-.94-2.06-.94-.94-2.06-.94 2.06-2.06.94z\"/><path d=\"M17.41 7.96l-1.37-1.37c-.4-.4-.92-.59-1.43-.59-.52 0-1.04.2-1.43.59L10.3 9.45l-7.72 7.72c-.78.78-.78 2.05 0 2.83L4 21.41c.39.39.9.59 1.41.59.51 0 1.02-.2 1.41-.59l7.78-7.78 2.81-2.81c.8-.78.8-2.07 0-2.86zM5.41 20L4 18.59l7.72-7.72 1.47 1.35L5.41 20z\"/>\n",
              "  </svg>\n",
              "      </button>\n",
              "      \n",
              "  <style>\n",
              "    .colab-df-container {\n",
              "      display:flex;\n",
              "      flex-wrap:wrap;\n",
              "      gap: 12px;\n",
              "    }\n",
              "\n",
              "    .colab-df-convert {\n",
              "      background-color: #E8F0FE;\n",
              "      border: none;\n",
              "      border-radius: 50%;\n",
              "      cursor: pointer;\n",
              "      display: none;\n",
              "      fill: #1967D2;\n",
              "      height: 32px;\n",
              "      padding: 0 0 0 0;\n",
              "      width: 32px;\n",
              "    }\n",
              "\n",
              "    .colab-df-convert:hover {\n",
              "      background-color: #E2EBFA;\n",
              "      box-shadow: 0px 1px 2px rgba(60, 64, 67, 0.3), 0px 1px 3px 1px rgba(60, 64, 67, 0.15);\n",
              "      fill: #174EA6;\n",
              "    }\n",
              "\n",
              "    [theme=dark] .colab-df-convert {\n",
              "      background-color: #3B4455;\n",
              "      fill: #D2E3FC;\n",
              "    }\n",
              "\n",
              "    [theme=dark] .colab-df-convert:hover {\n",
              "      background-color: #434B5C;\n",
              "      box-shadow: 0px 1px 3px 1px rgba(0, 0, 0, 0.15);\n",
              "      filter: drop-shadow(0px 1px 2px rgba(0, 0, 0, 0.3));\n",
              "      fill: #FFFFFF;\n",
              "    }\n",
              "  </style>\n",
              "\n",
              "      <script>\n",
              "        const buttonEl =\n",
              "          document.querySelector('#df-9baa1268-1131-4598-8ad1-19049d53b76e button.colab-df-convert');\n",
              "        buttonEl.style.display =\n",
              "          google.colab.kernel.accessAllowed ? 'block' : 'none';\n",
              "\n",
              "        async function convertToInteractive(key) {\n",
              "          const element = document.querySelector('#df-9baa1268-1131-4598-8ad1-19049d53b76e');\n",
              "          const dataTable =\n",
              "            await google.colab.kernel.invokeFunction('convertToInteractive',\n",
              "                                                     [key], {});\n",
              "          if (!dataTable) return;\n",
              "\n",
              "          const docLinkHtml = 'Like what you see? Visit the ' +\n",
              "            '<a target=\"_blank\" href=https://colab.research.google.com/notebooks/data_table.ipynb>data table notebook</a>'\n",
              "            + ' to learn more about interactive tables.';\n",
              "          element.innerHTML = '';\n",
              "          dataTable['output_type'] = 'display_data';\n",
              "          await google.colab.output.renderOutput(dataTable, element);\n",
              "          const docLink = document.createElement('div');\n",
              "          docLink.innerHTML = docLinkHtml;\n",
              "          element.appendChild(docLink);\n",
              "        }\n",
              "      </script>\n",
              "    </div>\n",
              "  </div>\n",
              "  "
            ]
          },
          "metadata": {},
          "execution_count": 162
        }
      ]
    },
    {
      "cell_type": "code",
      "source": [
        "#Hacemos un merge de la info de los coeficientes de correlacion con los resumenes\n",
        "\n",
        "univ2 = pd.merge(univ, corr_matrix[['feature', 'correl']], on = 'feature', how = 'left')\n",
        "\n",
        "univ2['correl_abs'] = univ2.correl.apply(lambda x: abs(x))\n",
        "univ2.sort_values(by = 'correl_abs', ascending = False, inplace = True)\n",
        "univ2"
      ],
      "metadata": {
        "colab": {
          "base_uri": "https://localhost:8080/",
          "height": 238
        },
        "id": "mKk_yvxOJNhG",
        "outputId": "71556e5b-a606-4f61-f414-9925ec15c2b0"
      },
      "execution_count": null,
      "outputs": [
        {
          "output_type": "execute_result",
          "data": {
            "text/plain": [
              "                           feature    count          mean            std  \\\n",
              "1                          Kg Neto  59390.0  1.044274e+04    5494.769533   \n",
              "4                       U$ FOB Tot  59390.0  6.183122e+04   39214.470286   \n",
              "5                              IBP  59390.0  1.414535e+04    2271.618897   \n",
              "0                          PBI USA  59390.0  1.695151e+06  216216.376885   \n",
              "2  Precio de exportación (USD FOB)  59390.0  6.229491e+03   26699.476365   \n",
              "3                     U$ FOB Und 2  59390.0  1.829724e+04   70502.280828   \n",
              "\n",
              "            min            Q1        median            Q3           max  \\\n",
              "1  1.300000e-01  6.043935e+03  1.170000e+04  1.468800e+04  4.602240e+04   \n",
              "4  0.000000e+00  3.070650e+04  6.273800e+04  8.624075e+04  5.893890e+05   \n",
              "5  4.972815e+03  1.190489e+04  1.427351e+04  1.649076e+04  1.664658e+04   \n",
              "0  1.437296e+06  1.537777e+06  1.641639e+06  2.015092e+06  2.015092e+06   \n",
              "2  0.000000e+00  4.654000e+03  5.800000e+03  7.075000e+03  4.666222e+06   \n",
              "3  0.000000e+00  1.017100e+04  1.527700e+04  2.237200e+04  1.457407e+07   \n",
              "\n",
              "   missing_rate    correl  correl_abs  \n",
              "1           0.0  1.000000    1.000000  \n",
              "4           0.0  0.772801    0.772801  \n",
              "5           0.0  0.182643    0.182643  \n",
              "0           0.0  0.107297    0.107297  \n",
              "2           0.0 -0.022115    0.022115  \n",
              "3           0.0  0.011735    0.011735  "
            ],
            "text/html": [
              "\n",
              "  <div id=\"df-c0cd13b7-10d8-4bf1-b2ea-aa395870b9ac\">\n",
              "    <div class=\"colab-df-container\">\n",
              "      <div>\n",
              "<style scoped>\n",
              "    .dataframe tbody tr th:only-of-type {\n",
              "        vertical-align: middle;\n",
              "    }\n",
              "\n",
              "    .dataframe tbody tr th {\n",
              "        vertical-align: top;\n",
              "    }\n",
              "\n",
              "    .dataframe thead th {\n",
              "        text-align: right;\n",
              "    }\n",
              "</style>\n",
              "<table border=\"1\" class=\"dataframe\">\n",
              "  <thead>\n",
              "    <tr style=\"text-align: right;\">\n",
              "      <th></th>\n",
              "      <th>feature</th>\n",
              "      <th>count</th>\n",
              "      <th>mean</th>\n",
              "      <th>std</th>\n",
              "      <th>min</th>\n",
              "      <th>Q1</th>\n",
              "      <th>median</th>\n",
              "      <th>Q3</th>\n",
              "      <th>max</th>\n",
              "      <th>missing_rate</th>\n",
              "      <th>correl</th>\n",
              "      <th>correl_abs</th>\n",
              "    </tr>\n",
              "  </thead>\n",
              "  <tbody>\n",
              "    <tr>\n",
              "      <th>1</th>\n",
              "      <td>Kg Neto</td>\n",
              "      <td>59390.0</td>\n",
              "      <td>1.044274e+04</td>\n",
              "      <td>5494.769533</td>\n",
              "      <td>1.300000e-01</td>\n",
              "      <td>6.043935e+03</td>\n",
              "      <td>1.170000e+04</td>\n",
              "      <td>1.468800e+04</td>\n",
              "      <td>4.602240e+04</td>\n",
              "      <td>0.0</td>\n",
              "      <td>1.000000</td>\n",
              "      <td>1.000000</td>\n",
              "    </tr>\n",
              "    <tr>\n",
              "      <th>4</th>\n",
              "      <td>U$ FOB Tot</td>\n",
              "      <td>59390.0</td>\n",
              "      <td>6.183122e+04</td>\n",
              "      <td>39214.470286</td>\n",
              "      <td>0.000000e+00</td>\n",
              "      <td>3.070650e+04</td>\n",
              "      <td>6.273800e+04</td>\n",
              "      <td>8.624075e+04</td>\n",
              "      <td>5.893890e+05</td>\n",
              "      <td>0.0</td>\n",
              "      <td>0.772801</td>\n",
              "      <td>0.772801</td>\n",
              "    </tr>\n",
              "    <tr>\n",
              "      <th>5</th>\n",
              "      <td>IBP</td>\n",
              "      <td>59390.0</td>\n",
              "      <td>1.414535e+04</td>\n",
              "      <td>2271.618897</td>\n",
              "      <td>4.972815e+03</td>\n",
              "      <td>1.190489e+04</td>\n",
              "      <td>1.427351e+04</td>\n",
              "      <td>1.649076e+04</td>\n",
              "      <td>1.664658e+04</td>\n",
              "      <td>0.0</td>\n",
              "      <td>0.182643</td>\n",
              "      <td>0.182643</td>\n",
              "    </tr>\n",
              "    <tr>\n",
              "      <th>0</th>\n",
              "      <td>PBI USA</td>\n",
              "      <td>59390.0</td>\n",
              "      <td>1.695151e+06</td>\n",
              "      <td>216216.376885</td>\n",
              "      <td>1.437296e+06</td>\n",
              "      <td>1.537777e+06</td>\n",
              "      <td>1.641639e+06</td>\n",
              "      <td>2.015092e+06</td>\n",
              "      <td>2.015092e+06</td>\n",
              "      <td>0.0</td>\n",
              "      <td>0.107297</td>\n",
              "      <td>0.107297</td>\n",
              "    </tr>\n",
              "    <tr>\n",
              "      <th>2</th>\n",
              "      <td>Precio de exportación (USD FOB)</td>\n",
              "      <td>59390.0</td>\n",
              "      <td>6.229491e+03</td>\n",
              "      <td>26699.476365</td>\n",
              "      <td>0.000000e+00</td>\n",
              "      <td>4.654000e+03</td>\n",
              "      <td>5.800000e+03</td>\n",
              "      <td>7.075000e+03</td>\n",
              "      <td>4.666222e+06</td>\n",
              "      <td>0.0</td>\n",
              "      <td>-0.022115</td>\n",
              "      <td>0.022115</td>\n",
              "    </tr>\n",
              "    <tr>\n",
              "      <th>3</th>\n",
              "      <td>U$ FOB Und 2</td>\n",
              "      <td>59390.0</td>\n",
              "      <td>1.829724e+04</td>\n",
              "      <td>70502.280828</td>\n",
              "      <td>0.000000e+00</td>\n",
              "      <td>1.017100e+04</td>\n",
              "      <td>1.527700e+04</td>\n",
              "      <td>2.237200e+04</td>\n",
              "      <td>1.457407e+07</td>\n",
              "      <td>0.0</td>\n",
              "      <td>0.011735</td>\n",
              "      <td>0.011735</td>\n",
              "    </tr>\n",
              "  </tbody>\n",
              "</table>\n",
              "</div>\n",
              "      <button class=\"colab-df-convert\" onclick=\"convertToInteractive('df-c0cd13b7-10d8-4bf1-b2ea-aa395870b9ac')\"\n",
              "              title=\"Convert this dataframe to an interactive table.\"\n",
              "              style=\"display:none;\">\n",
              "        \n",
              "  <svg xmlns=\"http://www.w3.org/2000/svg\" height=\"24px\"viewBox=\"0 0 24 24\"\n",
              "       width=\"24px\">\n",
              "    <path d=\"M0 0h24v24H0V0z\" fill=\"none\"/>\n",
              "    <path d=\"M18.56 5.44l.94 2.06.94-2.06 2.06-.94-2.06-.94-.94-2.06-.94 2.06-2.06.94zm-11 1L8.5 8.5l.94-2.06 2.06-.94-2.06-.94L8.5 2.5l-.94 2.06-2.06.94zm10 10l.94 2.06.94-2.06 2.06-.94-2.06-.94-.94-2.06-.94 2.06-2.06.94z\"/><path d=\"M17.41 7.96l-1.37-1.37c-.4-.4-.92-.59-1.43-.59-.52 0-1.04.2-1.43.59L10.3 9.45l-7.72 7.72c-.78.78-.78 2.05 0 2.83L4 21.41c.39.39.9.59 1.41.59.51 0 1.02-.2 1.41-.59l7.78-7.78 2.81-2.81c.8-.78.8-2.07 0-2.86zM5.41 20L4 18.59l7.72-7.72 1.47 1.35L5.41 20z\"/>\n",
              "  </svg>\n",
              "      </button>\n",
              "      \n",
              "  <style>\n",
              "    .colab-df-container {\n",
              "      display:flex;\n",
              "      flex-wrap:wrap;\n",
              "      gap: 12px;\n",
              "    }\n",
              "\n",
              "    .colab-df-convert {\n",
              "      background-color: #E8F0FE;\n",
              "      border: none;\n",
              "      border-radius: 50%;\n",
              "      cursor: pointer;\n",
              "      display: none;\n",
              "      fill: #1967D2;\n",
              "      height: 32px;\n",
              "      padding: 0 0 0 0;\n",
              "      width: 32px;\n",
              "    }\n",
              "\n",
              "    .colab-df-convert:hover {\n",
              "      background-color: #E2EBFA;\n",
              "      box-shadow: 0px 1px 2px rgba(60, 64, 67, 0.3), 0px 1px 3px 1px rgba(60, 64, 67, 0.15);\n",
              "      fill: #174EA6;\n",
              "    }\n",
              "\n",
              "    [theme=dark] .colab-df-convert {\n",
              "      background-color: #3B4455;\n",
              "      fill: #D2E3FC;\n",
              "    }\n",
              "\n",
              "    [theme=dark] .colab-df-convert:hover {\n",
              "      background-color: #434B5C;\n",
              "      box-shadow: 0px 1px 3px 1px rgba(0, 0, 0, 0.15);\n",
              "      filter: drop-shadow(0px 1px 2px rgba(0, 0, 0, 0.3));\n",
              "      fill: #FFFFFF;\n",
              "    }\n",
              "  </style>\n",
              "\n",
              "      <script>\n",
              "        const buttonEl =\n",
              "          document.querySelector('#df-c0cd13b7-10d8-4bf1-b2ea-aa395870b9ac button.colab-df-convert');\n",
              "        buttonEl.style.display =\n",
              "          google.colab.kernel.accessAllowed ? 'block' : 'none';\n",
              "\n",
              "        async function convertToInteractive(key) {\n",
              "          const element = document.querySelector('#df-c0cd13b7-10d8-4bf1-b2ea-aa395870b9ac');\n",
              "          const dataTable =\n",
              "            await google.colab.kernel.invokeFunction('convertToInteractive',\n",
              "                                                     [key], {});\n",
              "          if (!dataTable) return;\n",
              "\n",
              "          const docLinkHtml = 'Like what you see? Visit the ' +\n",
              "            '<a target=\"_blank\" href=https://colab.research.google.com/notebooks/data_table.ipynb>data table notebook</a>'\n",
              "            + ' to learn more about interactive tables.';\n",
              "          element.innerHTML = '';\n",
              "          dataTable['output_type'] = 'display_data';\n",
              "          await google.colab.output.renderOutput(dataTable, element);\n",
              "          const docLink = document.createElement('div');\n",
              "          docLink.innerHTML = docLinkHtml;\n",
              "          element.appendChild(docLink);\n",
              "        }\n",
              "      </script>\n",
              "    </div>\n",
              "  </div>\n",
              "  "
            ]
          },
          "metadata": {},
          "execution_count": 168
        }
      ]
    },
    {
      "cell_type": "code",
      "source": [
        "#Nos quedamos con los siguientes features\n",
        "#correlacion mayor a 0.1\n",
        "\n",
        "ffeatures = ['U$ FOB Tot','IBP','PBI USA']\n",
        "ffeatures"
      ],
      "metadata": {
        "colab": {
          "base_uri": "https://localhost:8080/"
        },
        "id": "9fI5YygdKjsX",
        "outputId": "d08180c0-3939-4f56-b9d3-710fc31348be"
      },
      "execution_count": null,
      "outputs": [
        {
          "output_type": "execute_result",
          "data": {
            "text/plain": [
              "['U$ FOB Tot', 'IBP', 'PBI USA']"
            ]
          },
          "metadata": {},
          "execution_count": 169
        }
      ]
    },
    {
      "cell_type": "markdown",
      "source": [
        "ANALISIS DEL TARGET "
      ],
      "metadata": {
        "id": "cjnSD6ld3fEm"
      }
    },
    {
      "cell_type": "code",
      "source": [
        "#Buscamos los outliers\n",
        "\n",
        "ax = sns.boxplot(data = dfar['Kg Neto'], orient='h')\n"
      ],
      "metadata": {
        "colab": {
          "base_uri": "https://localhost:8080/",
          "height": 430
        },
        "id": "elTIPyaACnBw",
        "outputId": "258c92cd-d41b-4401-d714-a2c9bf64c9ea"
      },
      "execution_count": null,
      "outputs": [
        {
          "output_type": "display_data",
          "data": {
            "text/plain": [
              "<Figure size 640x480 with 1 Axes>"
            ],
            "image/png": "[encoded data removed]"
          },
          "metadata": {}
        }
      ]
    },
    {
      "cell_type": "code",
      "source": [
        "sns.displot(dfar['Kg Neto'], kind = \"kde\", fill = True)"
      ],
      "metadata": {
        "colab": {
          "base_uri": "https://localhost:8080/",
          "height": 524
        },
        "id": "LY3RN-WCNSvi",
        "outputId": "f7e67e42-fb6a-4fa1-d516-60cdb65f70aa"
      },
      "execution_count": null,
      "outputs": [
        {
          "output_type": "execute_result",
          "data": {
            "text/plain": [
              "<seaborn.axisgrid.FacetGrid at 0x7f5f8e0169b0>"
            ]
          },
          "metadata": {},
          "execution_count": 172
        },
        {
          "output_type": "display_data",
          "data": {
            "text/plain": [
              "<Figure size 500x500 with 1 Axes>"
            ],
            "image/png": "[encoded data removed]"
          },
          "metadata": {}
        }
      ]
    },
    {
      "cell_type": "markdown",
      "source": [
        "<h3>Outliers por Z-score</h3>"
      ],
      "metadata": {
        "id": "DDhKskiz7Y69"
      }
    },
    {
      "cell_type": "code",
      "source": [
        "#Tratamiento por zscore\n",
        "\n",
        "upper_limit = np.mean(dfar['Kg Neto']) + 2.576*np.std(dfar['Kg Neto'])\n",
        "lower_limit = np.mean(dfar['Kg Neto']) - 2.576*np.std(dfar['Kg Neto'])\n",
        "\n",
        "dfar['Kg Neto_t'] = dfar['Kg Neto'].apply(lambda x: upper_limit if x > upper_limit\n",
        "                                        else lower_limit if x < lower_limit else x)"
      ],
      "metadata": {
        "id": "SOKJhSRgvbdi"
      },
      "execution_count": null,
      "outputs": []
    },
    {
      "cell_type": "markdown",
      "source": [
        "Revisemos los resultados"
      ],
      "metadata": {
        "id": "yGU0k6LW7xzk"
      }
    },
    {
      "cell_type": "code",
      "source": [
        "#Distribucion\n",
        "sns.displot(dfar['Kg Neto_t'], kind = \"kde\", fill = True)"
      ],
      "metadata": {
        "colab": {
          "base_uri": "https://localhost:8080/",
          "height": 524
        },
        "id": "_kSfyA9lO3eF",
        "outputId": "142a432f-71be-46ec-8241-bd63d8e9509b"
      },
      "execution_count": null,
      "outputs": [
        {
          "output_type": "execute_result",
          "data": {
            "text/plain": [
              "<seaborn.axisgrid.FacetGrid at 0x7f5f8d48b8e0>"
            ]
          },
          "metadata": {},
          "execution_count": 175
        },
        {
          "output_type": "display_data",
          "data": {
            "text/plain": [
              "<Figure size 500x500 with 1 Axes>"
            ],
            "image/png": "[encoded data removed]"
          },
          "metadata": {}
        }
      ]
    },
    {
      "cell_type": "code",
      "source": [
        "#Verificamos los outliers\n",
        "\n",
        "ax = sns.boxplot(data = dfar['Kg Neto'], orient='h')"
      ],
      "metadata": {
        "colab": {
          "base_uri": "https://localhost:8080/",
          "height": 430
        },
        "id": "SenzWcz_PXk2",
        "outputId": "8f57d90b-ce58-43e6-8ead-7a07feaa7024"
      },
      "execution_count": null,
      "outputs": [
        {
          "output_type": "display_data",
          "data": {
            "text/plain": [
              "<Figure size 640x480 with 1 Axes>"
            ],
            "image/png": "[encoded data removed]"
          },
          "metadata": {}
        }
      ]
    },
    {
      "cell_type": "markdown",
      "source": [
        "### Tratamiento de Missings"
      ],
      "metadata": {
        "id": "gL-Wl12674I0"
      }
    },
    {
      "cell_type": "markdown",
      "source": [
        "## Modelo de regresión Lineal"
      ],
      "metadata": {
        "id": "FI8q3eat33nO"
      }
    },
    {
      "cell_type": "markdown",
      "source": [
        "## Conclusión"
      ],
      "metadata": {
        "id": "qPOEmfPO6dvl"
      }
    }
  ]
}